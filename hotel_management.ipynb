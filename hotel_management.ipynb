{
 "cells": [
  {
   "cell_type": "code",
   "execution_count": 9,
   "id": "293fe5e8-3c41-4565-8a7c-887bcdee0d01",
   "metadata": {
    "scrolled": true
   },
   "outputs": [
    {
     "name": "stdout",
     "output_type": "stream",
     "text": [
      "^^^^^^🍽️ Python Hotel 🍽️^^^^^^\n",
      "--------------------------------------------------\n",
      "\n",
      "Food Menu\n",
      "1. Pizza  --> ₹150\n",
      "2. Burger  --> ₹80\n",
      "3. Pasta  --> ₹120\n",
      "4. Coffee  --> ₹50\n",
      "5. Ice Cream  --> ₹60\n",
      "6. Fried Momos  --> ₹100\n",
      "7. noodles  --> ₹70\n",
      "--------------------------------------------------\n"
     ]
    },
    {
     "name": "stdin",
     "output_type": "stream",
     "text": [
      "\n",
      "Enter Item Number to order (0 to finish):  2\n",
      "Enter quantity for Burger:  2\n",
      "\n",
      "Enter Item Number to order (0 to finish):  3\n",
      "Enter quantity for Pasta:  2\n",
      "\n",
      "Enter Item Number to order (0 to finish):  3\n",
      "Enter quantity for Pasta:  2\n",
      "\n",
      "Enter Item Number to order (0 to finish):  1\n",
      "Enter quantity for Pizza:  1\n",
      "\n",
      "Enter Item Number to order (0 to finish):  0\n"
     ]
    },
    {
     "name": "stdout",
     "output_type": "stream",
     "text": [
      "\n",
      "🧾 Your Bill 🧾\n",
      "--------------------------------------------------\n",
      "Burger (x2) --> ₹160\n",
      "Pasta (x2) --> ₹240\n",
      "Pasta (x2) --> ₹240\n",
      "Pizza (x1) --> ₹150\n",
      "--------------------------------------------------\n",
      "Subtotal: ₹790\n",
      "GST (5%): ₹39.50\n",
      "Total Payable: ₹829.50\n",
      "--------------------------------------------------\n",
      "🙏 Thank you! Visit Again 🙏\n"
     ]
    }
   ],
   "source": [
    "menu = {\n",
    "    1: {\"item\": \"Pizza\", \"price\": 150},\n",
    "    2: {\"item\": \"Burger\", \"price\": 80},\n",
    "    3: {\"item\": \"Pasta\", \"price\": 120},\n",
    "    4: {\"item\": \"Coffee\", \"price\": 50},\n",
    "    5: {\"item\": \"Ice Cream\", \"price\": 60},\n",
    "    6: {\"item\": \"Fried Momos\", \"price\": 100},\n",
    "    7: {\"item\": \"noodles\",\"price\": 70}\n",
    "}\n",
    "\n",
    "print(\"^^^^^^🍽️ Python Hotel 🍽️^^^^^^\")\n",
    "print(\"-\"*50)\n",
    "print(\"\\nFood Menu\")\n",
    "\n",
    "\n",
    "for num, details in menu.items():\n",
    "    print(f\"{num}. {details['item']}  --> ₹{details['price']}\")\n",
    "\n",
    "print(\"-\" * 50)\n",
    "\n",
    "order = [] \n",
    "\n",
    "while True:\n",
    "    choice = int(input(\"\\nEnter Item Number to order (0 to finish): \"))\n",
    "    if choice == 0:  \n",
    "        break\n",
    "    elif choice in menu:\n",
    "        qty = int(input(f\"Enter quantity for {menu[choice]['item']}: \"))\n",
    "        order.append({\"item\": menu[choice]['item'],\n",
    "                      \"price\": menu[choice]['price'],\n",
    "                      \"qty\": qty})\n",
    "    else:\n",
    "        print(\"❌ Invalid choice, try again!\")\n",
    "\n",
    "# Generate Bill\n",
    "print(\"\\n🧾 Your Bill 🧾\")\n",
    "print(\"-\" * 50)\n",
    "total = 0\n",
    "\n",
    "for od in order:\n",
    "    amt = od['price'] * od['qty']\n",
    "    total += amt\n",
    "    print(f\"{od['item']} (x{od['qty']}) --> ₹{amt}\")\n",
    "\n",
    "print(\"-\" * 50)\n",
    "print(f\"Subtotal: ₹{total}\")\n",
    "gst = total * 0.05\n",
    "print(f\"GST (5%): ₹{gst:.2f}\")\n",
    "final_total = total + gst\n",
    "print(f\"Total Payable: ₹{final_total:.2f}\")\n",
    "print(\"-\" * 50)\n",
    "print(\"🙏 Thank you! Visit Again 🙏\")\n"
   ]
  },
  {
   "cell_type": "code",
   "execution_count": null,
   "id": "0a52b4d2-4539-46c8-a650-72a5fa1777a4",
   "metadata": {},
   "outputs": [],
   "source": []
  }
 ],
 "metadata": {
  "kernelspec": {
   "display_name": "Python 3 (ipykernel)",
   "language": "python",
   "name": "python3"
  },
  "language_info": {
   "codemirror_mode": {
    "name": "ipython",
    "version": 3
   },
   "file_extension": ".py",
   "mimetype": "text/x-python",
   "name": "python",
   "nbconvert_exporter": "python",
   "pygments_lexer": "ipython3",
   "version": "3.13.5"
  }
 },
 "nbformat": 4,
 "nbformat_minor": 5
}
